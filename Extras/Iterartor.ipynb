{
 "cells": [
  {
   "cell_type": "code",
   "execution_count": 3,
   "metadata": {},
   "outputs": [],
   "source": [
    "import random\n",
    "\n",
    "class CoolEmoticonGenerator(object):\n",
    "    \"\"\"docstring for CoolEmoticonGenerator.\"\"\"\n",
    "\n",
    "    strings = \"!@#$^*_-=+?/,.:;~\"\n",
    "    grouped_strings = [(\"(\", \")\"), (\"<\", \">\"), (\"[\", \"]\"), (\"{\", \"}\")]\n",
    "\n",
    "    def create_emoticon(self, grp):\n",
    "        \"\"\"actual method that creates the emoticon\"\"\"\n",
    "        face_strings_list = [random.choice(self.strings) for _ in range(3)]\n",
    "        face_strings = \"\".join(face_strings_list)\n",
    "        emoticon = (grp[0], face_strings, grp[1])\n",
    "        emoticon = \"\".join(emoticon)\n",
    "        return emoticon\n",
    "\n",
    "    def __iter__(self):\n",
    "        \"\"\"returns the self object to be accessed by the for loop\"\"\"\n",
    "        return self\n",
    "\n",
    "    def __next__(self):\n",
    "        \"\"\"returns the next emoticon indefinitely\"\"\"\n",
    "        grp = random.choice(self.grouped_strings)\n",
    "        return self.create_emoticon(grp)"
   ]
  },
  {
   "cell_type": "code",
   "execution_count": 12,
   "metadata": {},
   "outputs": [
    {
     "name": "stdout",
     "output_type": "stream",
     "text": [
      "['<~!_>', '(+~:)', '[+/_]', '<^-*>', '<@!+>', '<-:,>', '{$=+}', '<,^~>', '[;=:]', '<$@^>']\n"
     ]
    }
   ],
   "source": [
    "g = CoolEmoticonGenerator()\n",
    "print([next(g) for _ in range(10)])"
   ]
  },
  {
   "cell_type": "code",
   "execution_count": null,
   "metadata": {},
   "outputs": [],
   "source": []
  }
 ],
 "metadata": {
  "kernelspec": {
   "display_name": "Python 3",
   "language": "python",
   "name": "python3"
  },
  "language_info": {
   "codemirror_mode": {
    "name": "ipython",
    "version": 3
   },
   "file_extension": ".py",
   "mimetype": "text/x-python",
   "name": "python",
   "nbconvert_exporter": "python",
   "pygments_lexer": "ipython3",
   "version": "3.7.6"
  }
 },
 "nbformat": 4,
 "nbformat_minor": 4
}
