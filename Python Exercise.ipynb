{
 "cells": [
  {
   "cell_type": "markdown",
   "metadata": {},
   "source": [
    "# Python Practice Problems"
   ]
  },
  {
   "cell_type": "markdown",
   "metadata": {},
   "source": [
    "## Simple Input"
   ]
  },
  {
   "cell_type": "code",
   "execution_count": 1,
   "metadata": {},
   "outputs": [
    {
     "name": "stdout",
     "output_type": "stream",
     "text": [
      "1\n",
      "1\n",
      "2\n",
      "2\n",
      "88\n",
      "88\n",
      "-100\n"
     ]
    }
   ],
   "source": [
    "sum=0\n",
    "i=1\n",
    "while(True):\n",
    "    no = int(input())\n",
    "    if no > -1000 or no < 1000:\n",
    "        sum=sum+no\n",
    "        if(sum>=0):\n",
    "            print(no,end='\\n')\n",
    "            i += 1\n",
    "        else:\n",
    "            break"
   ]
  },
  {
   "cell_type": "markdown",
   "metadata": {},
   "source": [
    "## Pattern Numbers & Stars - 1"
   ]
  },
  {
   "cell_type": "code",
   "execution_count": 2,
   "metadata": {},
   "outputs": [
    {
     "name": "stdout",
     "output_type": "stream",
     "text": [
      "5\n",
      "1 2 3 4 5 \n",
      "1 2 3 4 * \n",
      "1 2 3 * * * \n",
      "1 2 * * * * * \n",
      "1 * * * * * * * \n"
     ]
    }
   ],
   "source": [
    "N = int(input())\n",
    "for i in range(N):\n",
    "    for j in range(N-i):\n",
    "        print(j+1,end=' ')\n",
    "    print('* '*(i+(i-1)))"
   ]
  },
  {
   "cell_type": "markdown",
   "metadata": {},
   "source": [
    "## Pattern Numbers & Stars - 2"
   ]
  },
  {
   "cell_type": "code",
   "execution_count": 3,
   "metadata": {},
   "outputs": [
    {
     "name": "stdout",
     "output_type": "stream",
     "text": [
      "7\n",
      "1******\n",
      "12*****\n",
      "123****\n",
      "1234***\n",
      "12345**\n",
      "123456*\n",
      "1234567\n"
     ]
    }
   ],
   "source": [
    "N = int(input())\n",
    "if 1 <= N < 10:\n",
    "    for i in range(N):\n",
    "        for j in range(i+1):\n",
    "            print(j+1,end='')\n",
    "        print('*'*(N-i-1))"
   ]
  },
  {
   "cell_type": "markdown",
   "metadata": {},
   "source": [
    "## Increasing Decreasing Sequence"
   ]
  },
  {
   "cell_type": "code",
   "execution_count": 4,
   "metadata": {},
   "outputs": [
    {
     "name": "stdout",
     "output_type": "stream",
     "text": [
      "5\n",
      "1\n",
      "2\n",
      "3\n",
      "4\n",
      "5\n",
      "true\n",
      "\n"
     ]
    }
   ],
   "source": [
    "prev = 1000000000\n",
    "Seq_no = 1\n",
    "n = int(input())\n",
    "for i in range(n):\n",
    "    curr = int(input())\n",
    "    if(Seq_no == 1):\n",
    "        if(prev <= curr):\n",
    "            Seq_no += 1\n",
    "    else:\n",
    "        if(prev >= curr):\n",
    "            Seq_no += 1\n",
    "            break\n",
    "    prev = curr\n",
    "if(Seq_no == 2 or (Seq_no == 1 and n != 1)):\n",
    "    print(\"true\\n\")\n",
    "else:\n",
    "    print(\"false\\n\")"
   ]
  },
  {
   "cell_type": "markdown",
   "metadata": {},
   "source": [
    "## Pythagorean's Challenge"
   ]
  },
  {
   "cell_type": "code",
   "execution_count": 5,
   "metadata": {},
   "outputs": [
    {
     "name": "stdout",
     "output_type": "stream",
     "text": [
      "3\n",
      "1\n",
      "9\n",
      "25\n",
      "(0,1) \n",
      "(0,3) \n",
      "(0,5) (3,4) \n"
     ]
    }
   ],
   "source": [
    "import math\n",
    "def pythagorean(c):\n",
    "    for a in range(int(math.sqrt(c))+1):\n",
    "        b = math.sqrt(c - (a ** 2)) \n",
    "        if b == int(b) and a <=int(b):\n",
    "            print(\"({},{})\".format(a,int(b)), end=\" \")\n",
    "\n",
    "t = int(input())\n",
    "\n",
    "arr = []\n",
    "\n",
    "for _ in range(t):\n",
    "    n= int(input())\n",
    "    arr.append(n)\n",
    "\n",
    "for i in arr:\n",
    "    pythagorean(i)\n",
    "    print()"
   ]
  },
  {
   "cell_type": "markdown",
   "metadata": {},
   "source": [
    "## Check Prime"
   ]
  },
  {
   "cell_type": "code",
   "execution_count": 6,
   "metadata": {},
   "outputs": [
    {
     "name": "stdout",
     "output_type": "stream",
     "text": [
      "3\n",
      "Prime\n"
     ]
    }
   ],
   "source": [
    "N = int(input())\n",
    "if 2 < N < 1000000000:\n",
    "    for i in range(2, int(N/2)+1):\n",
    "        if (N % i) == 0:\n",
    "            print(\"Not Prime\")\n",
    "            break\n",
    "    else:\n",
    "        print(\"Prime\")"
   ]
  },
  {
   "cell_type": "markdown",
   "metadata": {},
   "source": [
    "## Prime Generator"
   ]
  },
  {
   "cell_type": "code",
   "execution_count": 8,
   "metadata": {},
   "outputs": [
    {
     "name": "stdout",
     "output_type": "stream",
     "text": [
      "2\n",
      "1 10\n",
      "2 3 5 7 3 5\n",
      "3 5 "
     ]
    }
   ],
   "source": [
    "def isprime(n):\n",
    "    if n <= 1: return False\n",
    "    if n == 2 or n == 3: return True\n",
    "    if n%2 == 0 or n%3 == 0: return False\n",
    "\n",
    "    for i in range(5, int(n**.5)+1, 6):\n",
    "        if n%i == 0 or n%(i+2) == 0: return False\n",
    "    return True\n",
    "    \n",
    "for _ in range(int(input())):\n",
    "    l, r = map(int, input().split())\n",
    "    for i in range(l, r+1):\n",
    "        if isprime(i): print(i, end = \" \")"
   ]
  }
 ],
 "metadata": {
  "kernelspec": {
   "display_name": "Python 3",
   "language": "python",
   "name": "python3"
  },
  "language_info": {
   "codemirror_mode": {
    "name": "ipython",
    "version": 3
   },
   "file_extension": ".py",
   "mimetype": "text/x-python",
   "name": "python",
   "nbconvert_exporter": "python",
   "pygments_lexer": "ipython3",
   "version": "3.7.6"
  }
 },
 "nbformat": 4,
 "nbformat_minor": 4
}
